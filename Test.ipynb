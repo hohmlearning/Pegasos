{
 "cells": [
  {
   "cell_type": "markdown",
   "metadata": {},
   "source": [
    "# Support Vector Machine (SVM) with Pegasos"
   ]
  },
  {
   "cell_type": "markdown",
   "metadata": {},
   "source": [
    "Some important namespaces are loaded."
   ]
  },
  {
   "cell_type": "code",
   "execution_count": 1,
   "metadata": {},
   "outputs": [],
   "source": [
    "import numpy as np #numerical operation\n",
    "import pandas as pd #tabular data\n",
    "from tqdm import tqdm #progress bars\n",
    "import matplotlib.pyplot as plt #figures\n",
    "from sklearn.linear_model import LinearRegression #linear regression benchmark\n",
    "import sys #System-specific parameters and functions"
   ]
  },
  {
   "cell_type": "markdown",
   "metadata": {},
   "source": [
    "The custum modules, consisting of among others the Pegasos algorithm, are imported. \n",
    "Therefore, a relative path is appended to the system path."
   ]
  },
  {
   "cell_type": "code",
   "execution_count": 2,
   "metadata": {},
   "outputs": [],
   "source": [
    "sys.path.insert(1, 'Modules/')\n",
    "from Evaluation_Metric import Metric_regression\n",
    "from Cross_validation import preparation_cross_validation\n",
    "golden_section_search = __import__('20220716_Golden_Section_Search').golden_section_search\n",
    "from Primal_Pegasos import Pegasos_regression\n",
    "Pegasos_kernel = __import__('Kernel_Pegasos').Pegasos_kernel_regression\n",
    "Kernel_p = __import__('Kernel_Pegasos').Kernel_polynomial   \n",
    "Kernel_rbf = __import__('Kernel_Pegasos').RBF   "
   ]
  },
  {
   "cell_type": "markdown",
   "metadata": {},
   "source": [
    "The **boston house prices** dataset is imported. \n",
    "The dataset is commonly used for comparison regression algorithm.\n",
    "The data was originally published by Harrison, D. and Rubinfeld, D.L. `Hedonic prices and the demand for clean air', J. Environ. Economics & Management, vol.5, 81-102, 1978.\n",
    "\n",
    "http://lib.stat.cmu.edu/datasets/boston (accessed on 26th July 2022)"
   ]
  },
  {
   "cell_type": "code",
   "execution_count": 3,
   "metadata": {},
   "outputs": [],
   "source": [
    "data_url = \"http://lib.stat.cmu.edu/datasets/boston\"\n",
    "raw_df = pd.read_csv(data_url, sep=\"\\s+\", skiprows=22, header=None)\n",
    "\n",
    "data = np.hstack([raw_df.values[::2, :], raw_df.values[1::2, :2]])\n",
    "target = raw_df.values[1::2, 2]\n",
    "\n",
    "column_names = ['CRIM', 'ZN', 'INDUS', 'CHAS', 'NOX', 'RM', 'AGE', 'DIS', 'RAD', 'TAX', 'PTRATIO', 'B', 'LSTAT', 'MEDV']\n"
   ]
  },
  {
   "cell_type": "markdown",
   "metadata": {},
   "source": [
    "Non numeric values are removed from this dataset. \n",
    "Each row, containing NaN, is removed ensuring only numeric values."
   ]
  },
  {
   "cell_type": "code",
   "execution_count": 4,
   "metadata": {},
   "outputs": [],
   "source": [
    "X_nan = np.isnan(data)\n",
    "X_nan = X_nan.sum(axis=1)\n",
    "X_no_nan = X_nan == 0\n",
    "X = data[X_no_nan,:]\n",
    "y = target[X_no_nan]"
   ]
  },
  {
   "cell_type": "markdown",
   "metadata": {},
   "source": [
    "The feature matrix is centered around 0 with a standard deviation of 1. "
   ]
  },
  {
   "cell_type": "code",
   "execution_count": 5,
   "metadata": {},
   "outputs": [],
   "source": [
    "X = X - X.mean(axis=0)\n",
    "X = X / X.var(axis=0)**0.5"
   ]
  },
  {
   "cell_type": "markdown",
   "metadata": {},
   "source": [
    "The dataset is randomly splitted in trainings and testing data. \n",
    "The algorthm is trained and the hyperparameter are adjusted based on the trainings data. \n",
    "The final performance evaluation is done with the test data."
   ]
  },
  {
   "cell_type": "code",
   "execution_count": 6,
   "metadata": {},
   "outputs": [],
   "source": [
    "np.random.seed(42)\n",
    "n = X.shape[0]\n",
    "split_fraction = 0.8\n",
    "n_random = np.random.permutation(n)\n",
    "n_train = n_random[:int(n*split_fraction)]\n",
    "n_test = n_random[int(n*split_fraction):]\n",
    "\n",
    "X_train = X[n_train,:]\n",
    "y_train = y[n_train]\n",
    "\n",
    "X_test = X[n_test,:]\n",
    "y_test =  y[n_test]"
   ]
  },
  {
   "cell_type": "markdown",
   "metadata": {},
   "source": [
    "The trainings data set is splitted into $n$ bags. \n",
    "For randomization the modul numpy is applied. \n",
    "The optimal regularisation parameter $\\lambda$ is searched such that the validation error is minimized. \n",
    "Therefore, the models are fitted on $n - 1$ bags and the performance is evaluated on $1$ bag."
   ]
  },
  {
   "cell_type": "code",
   "execution_count": 7,
   "metadata": {},
   "outputs": [],
   "source": [
    "n_bags = 10\n",
    "np.random.seed(42)\n",
    "bags_list = preparation_cross_validation(X_train, y_train, n_bags)"
   ]
  },
  {
   "cell_type": "markdown",
   "metadata": {},
   "source": [
    "The test error is approximated with the validaiton error. \n",
    "Therefore, the function *MSE_l* fits the linear Pegasos models to the trainings data and return the validation error."
   ]
  },
  {
   "cell_type": "code",
   "execution_count": 8,
   "metadata": {},
   "outputs": [],
   "source": [
    "epoch_max_diagram = 100\n",
    "def MSE_l (l, Pegasos_regression, epoch_max, epsilon, X_train, y_train, X_val, y_val):\n",
    "    Pegasos = Pegasos_regression(regularization=l,\n",
    "                                 epoch_max=epoch_max,\n",
    "                                 epsilon=epsilon,\n",
    "                                 verbose=False)\n",
    "    Pegasos.fit(X_train, y_train)\n",
    "    MSE_ = Pegasos.MSE(X_val, y_val)\n",
    "    return (MSE_) "
   ]
  },
  {
   "cell_type": "markdown",
   "metadata": {},
   "source": [
    "The error on the validation set is unimodal with exactly one minimum. \n",
    "The $n$ cross validation sets are plotted as a function of $\\lambda$."
   ]
  },
  {
   "cell_type": "code",
   "execution_count": 9,
   "metadata": {},
   "outputs": [
    {
     "name": "stderr",
     "output_type": "stream",
     "text": [
      "100%|██████████████████████████████████████████████████████████████████████████████████| 10/10 [16:17<00:00, 97.79s/it]\n"
     ]
    },
    {
     "data": {
      "image/png": "[encoded data removed]",
      "text/plain": [
       "<Figure size 432x288 with 1 Axes>"
      ]
     },
     "metadata": {
      "needs_background": "light"
     },
     "output_type": "display_data"
    }
   ],
   "source": [
    "legend_list = ['$n\\mathrm{_{bag}}$ = ' + str(i+1) for i in range(n_bags)]\n",
    "l_array = np.logspace(-5, 2, 100)\n",
    "for n_val in tqdm(range (n_bags)):\n",
    "    X_train_ = []\n",
    "    y_train_ = []\n",
    "    X_val_ = np.array(bags_list[n_val].x)\n",
    "    y_val_ =  np.array(bags_list[n_val].y)\n",
    "    for n in range (n_bags):\n",
    "        if n_val != n:\n",
    "            X_train_ += bags_list[n].x\n",
    "            y_train_ += bags_list[n].y\n",
    "    X_train_ = np.array(X_train_)\n",
    "    y_train_ = np.array(y_train_)\n",
    "\n",
    "    MSE_min = lambda l: MSE_l(l, \n",
    "                              Pegasos_regression=Pegasos_regression, \n",
    "                              epoch_max=epoch_max_diagram, \n",
    "                              epsilon=1E-8, \n",
    "                              X_train=X_train_, \n",
    "                              y_train=y_train_, \n",
    "                              X_val=X_val_, \n",
    "                              y_val=y_val_)\n",
    "    MSE_min_vec = np.vectorize(MSE_min)\n",
    "    plt.plot(l_array, MSE_min_vec(l_array))\n",
    "\n",
    "plt.title('Epoch$\\mathrm{_{max}}$ = ' + '{:.0f}'.format(epoch_max_diagram))\n",
    "plt.xlabel('$\\lambda$ / -')\n",
    "plt.xscale('log')\n",
    "plt.xlim(1E-5, 10000)\n",
    "plt.ylabel('MEDV$\\mathrm{_{val}}$')\n",
    "plt.legend(legend_list, loc='upper right', fontsize='xx-small')\n",
    "plt.show()"
   ]
  },
  {
   "cell_type": "markdown",
   "metadata": {},
   "source": [
    "The optima $\\lambda$ are found with the golden section search. \n",
    "The golden section search finds the mimimum in a given intervall, for strictly unimodal functions. \n",
    "Thereafter, the whole trainings set is fitted with the average $\\lambda$ of the cross validation.  \n"
   ]
  },
  {
   "cell_type": "code",
   "execution_count": 10,
   "metadata": {},
   "outputs": [
    {
     "name": "stdout",
     "output_type": "stream",
     "text": [
      "MSE (on validation set 1/10) = 28 | lambda = 0.0037\n",
      "MSE (on validation set 2/10) = 41 | lambda = 0.0048\n",
      "MSE (on validation set 3/10) = 16 | lambda = 0.0037\n",
      "MSE (on validation set 4/10) = 27 | lambda = 0.0037\n",
      "MSE (on validation set 5/10) = 19 | lambda = 0.091\n",
      "MSE (on validation set 6/10) = 37 | lambda = 0.03\n",
      "MSE (on validation set 7/10) = 44 | lambda = 0.0045\n",
      "MSE (on validation set 8/10) = 9.8 | lambda = 0.0048\n",
      "MSE (on validation set 9/10) = 16 | lambda = 0.0024\n"
     ]
    },
    {
     "name": "stderr",
     "output_type": "stream",
     "text": [
      " 10%|████████                                                                         | 10/100 [00:00<00:00, 90.09it/s]"
     ]
    },
    {
     "name": "stdout",
     "output_type": "stream",
     "text": [
      "MSE (on validation set 10/10) = 19 | lambda = 0.027\n",
      "Mean MSE Cross Validation = 25.7 +- 11.8\n",
      "Best lambda = 0.0175 +- 0.0276\n",
      "##########\n",
      "Regularizaion: 0.017467556350973693\n",
      "Max epoch: 100\n",
      "Primal Pegasos Linear\n"
     ]
    },
    {
     "name": "stderr",
     "output_type": "stream",
     "text": [
      "100%|████████████████████████████████████████████████████████████████████████████████| 100/100 [00:01<00:00, 85.39it/s]"
     ]
    },
    {
     "name": "stdout",
     "output_type": "stream",
     "text": [
      "##########\n"
     ]
    },
    {
     "name": "stderr",
     "output_type": "stream",
     "text": [
      "\n"
     ]
    }
   ],
   "source": [
    "epoch_max = 100\n",
    "MSE_mean = 0\n",
    "MSE_list = []\n",
    "l_opt_list = []\n",
    "for n_val in range (n_bags):\n",
    "    X_train_ = []\n",
    "    y_train_ = []\n",
    "    X_val_ = np.array(bags_list[n_val].x)\n",
    "    y_val_ =  np.array(bags_list[n_val].y)\n",
    "    for n in range (n_bags):\n",
    "        if n_val != n:\n",
    "            X_train_ += bags_list[n].x\n",
    "            y_train_ += bags_list[n].y\n",
    "    X_train_ = np.array(X_train_)\n",
    "    y_train_ = np.array(y_train_)\n",
    "\n",
    "    MSE_min = lambda l: MSE_l(l, \n",
    "                              Pegasos_regression=Pegasos_regression,\n",
    "                              epoch_max=epoch_max, \n",
    "                              epsilon=1E-8, \n",
    "                              X_train=X_train_, y_train=y_train_, \n",
    "                              X_val=X_val_, y_val=y_val_)\n",
    "    \n",
    "    l_opt = golden_section_search(MSE_min, 1E-3, 10, 1E-3)\n",
    "    l_opt_list.append(l_opt)\n",
    "    MSE_list.append(MSE_min(l_opt))\n",
    "    MSE_mean += MSE_min(l_opt) / n_bags \n",
    "    print('MSE (on validation set {}/{}) = {:.2g} | lambda = {:.2g}'.format(n_val+1, n_bags, MSE_min(l_opt), l_opt))\n",
    "MSE_array = np.array(MSE_list)\n",
    "best_l_array = np.array(l_opt_list)\n",
    "print('Mean MSE Cross Validation = {:.3g} +- {:.3g}'.format(MSE_mean, MSE_array.var(ddof=1)**0.5))\n",
    "print('Best lambda = {:.3g} +- {:.3g}'.format(best_l_array.mean(), best_l_array.var(ddof=1)**0.5))\n",
    "\n",
    "l_best_linear = best_l_array.mean()\n",
    "Pegasos_linear_CV = Pegasos_regression(regularization=l_best_linear,\n",
    "                             epoch_max=epoch_max,\n",
    "                             epsilon=1E-8)\n",
    "Pegasos_linear_CV.fit(X_train, y_train)"
   ]
  },
  {
   "cell_type": "markdown",
   "metadata": {},
   "source": [
    "The test error is approximated with the validaiton error. \n",
    "Therefore, the function *MSE_kernel* fits the kernalized Pegasos models to the trainings data and return the validation error."
   ]
  },
  {
   "cell_type": "code",
   "execution_count": 11,
   "metadata": {},
   "outputs": [],
   "source": [
    "def MSE_kernel (l, Pegasos, Kernel, epoch_max, epsilon, X_train, y_train, X_val, y_val):\n",
    "    Pegasos_ = Pegasos(kernel=Kernel,\n",
    "                              regularization=l,\n",
    "                              epoch_max=epoch_max,\n",
    "                              epsilon=epsilon,\n",
    "                              verbose=False)\n",
    "    Pegasos_.fit(X_train, y_train)\n",
    "    MSE_ = Pegasos_.MSE(X_val, y_val)\n",
    "    return (MSE_) "
   ]
  },
  {
   "cell_type": "markdown",
   "metadata": {},
   "source": [
    "The optimal $\\lambda$ are found for the linear kernalized Pegasos. "
   ]
  },
  {
   "cell_type": "code",
   "execution_count": 12,
   "metadata": {},
   "outputs": [
    {
     "name": "stdout",
     "output_type": "stream",
     "text": [
      "MSE (on validation set 1/10) = 28.63 | lambda = 0.0046\n",
      "MSE (on validation set 2/10) = 39.16 | lambda = 0.00049\n",
      "MSE (on validation set 3/10) = 16.29 | lambda = 0.0081\n",
      "MSE (on validation set 4/10) = 26.50 | lambda = 0.003\n",
      "MSE (on validation set 5/10) = 18.78 | lambda = 0.09\n",
      "MSE (on validation set 6/10) = 36.97 | lambda = 0.03\n",
      "MSE (on validation set 7/10) = 43.85 | lambda = 0.0052\n",
      "MSE (on validation set 8/10) = 9.83 | lambda = 0.0046\n",
      "MSE (on validation set 9/10) = 15.76 | lambda = 0.0021\n"
     ]
    },
    {
     "name": "stderr",
     "output_type": "stream",
     "text": [
      "  5%|████                                                                              | 5/100 [00:00<00:02, 41.66it/s]"
     ]
    },
    {
     "name": "stdout",
     "output_type": "stream",
     "text": [
      "MSE (on validation set 10/10) = 18.37 | lambda = 0.0046\n",
      "Mean MSE Cross Validation = 25.5 +- 11.5\n",
      "Best lambda = 0.0152 +- 0.0274\n",
      "##########\n",
      "Regularizaion: 0.015214599590475938\n",
      "Max epoch: 100\n",
      "Kernel Pegasos: Polynomial kernel (c=0, p=1)\n"
     ]
    },
    {
     "name": "stderr",
     "output_type": "stream",
     "text": [
      "100%|████████████████████████████████████████████████████████████████████████████████| 100/100 [00:02<00:00, 39.93it/s]"
     ]
    },
    {
     "name": "stdout",
     "output_type": "stream",
     "text": [
      "##########\n"
     ]
    },
    {
     "name": "stderr",
     "output_type": "stream",
     "text": [
      "\n"
     ]
    }
   ],
   "source": [
    "MSE_mean = 0\n",
    "MSE_list = []\n",
    "Kernel_linear = Kernel_p(c=0, p=1)\n",
    "l_opt_list = []\n",
    "for n_val in range (n_bags):\n",
    "    X_train_ = []\n",
    "    y_train_ = []\n",
    "    X_val_ = np.array(bags_list[n_val].x)\n",
    "    y_val_ =  np.array(bags_list[n_val].y)\n",
    "    for n in range (n_bags):\n",
    "        if n_val != n:\n",
    "            X_train_ += bags_list[n].x\n",
    "            y_train_ += bags_list[n].y\n",
    "    X_train_ = np.array(X_train_)\n",
    "    y_train_ = np.array(y_train_)\n",
    "\n",
    "    MSE_kernel_lambda = lambda l: MSE_kernel(l,\n",
    "                                             Pegasos=Pegasos_kernel, \n",
    "                                             Kernel=Kernel_linear,  \n",
    "                                             epoch_max=epoch_max, \n",
    "                                             epsilon=1E-8, \n",
    "                                             X_train=X_train_, \n",
    "                                             y_train=y_train_, \n",
    "                                             X_val=X_val_, \n",
    "                                             y_val=y_val_)\n",
    "    \n",
    "    l_opt = golden_section_search(MSE_kernel_lambda, 1E-5, 100, 1E-3)\n",
    "    l_opt_list.append(l_opt)\n",
    "    MSE_list.append(MSE_kernel_lambda(l_opt))\n",
    "    MSE_mean += MSE_kernel_lambda(l_opt) / n_bags \n",
    "    print('MSE (on validation set {}/{}) = {:.2f} | lambda = {:.2g}'.format(n_val+1, n_bags, MSE_min(l_opt), l_opt))\n",
    "MSE_array = np.array(MSE_list)\n",
    "best_l_array = np.array(l_opt_list)\n",
    "print('Mean MSE Cross Validation = {:.3g} +- {:.3g}'.format(MSE_mean, MSE_array.var(ddof=1)**0.5))\n",
    "print('Best lambda = {:.3g} +- {:.3g}'.format(best_l_array.mean(), best_l_array.var(ddof=1)**0.5))\n",
    "\n",
    "l_best = best_l_array.mean()\n",
    "Pegasos_kernel_linear_CV = Pegasos_kernel(kernel=Kernel_linear,\n",
    "                                          regularization=l_best,\n",
    "                                          epoch_max=epoch_max,\n",
    "                                          epsilon=1E-8,\n",
    "                                           )\n",
    "Pegasos_kernel_linear_CV.fit(X_train, y_train)"
   ]
  },
  {
   "cell_type": "markdown",
   "metadata": {},
   "source": [
    "The optimal $c$ and $\\lambda$ are aproximated with the grid search. \n",
    "Higher $c$ gives more weight to the features with lower dimensions. \n",
    "Thus, $c$ and $\\lambda$ are reducing the complexity of the model.\n",
    "\n",
    "First, order of magnitude of the parameter $c$ and $\\lambda$ is searched. Thereafter, the search repeated with smaller step sizes. "
   ]
  },
  {
   "cell_type": "code",
   "execution_count": 13,
   "metadata": {},
   "outputs": [
    {
     "name": "stdout",
     "output_type": "stream",
     "text": [
      "MSE (on validation set 1/10) = 5.95 | c = 5.0 | lambda = 0.05\n",
      "MSE (on validation set 2/10) = 26.10 | c = 40 | lambda = 0.017\n",
      "MSE (on validation set 3/10) = 5.63 | c = 20 | lambda = 0.013\n",
      "MSE (on validation set 4/10) = 9.71 | c = 100 | lambda = 0.1\n",
      "MSE (on validation set 5/10) = 5.39 | c = 1 | lambda = 0.05\n",
      "MSE (on validation set 6/10) = 13.21 | c = 0.1111111111111111 | lambda = 0.005\n",
      "MSE (on validation set 7/10) = 15.99 | c = 20 | lambda = 0.02\n",
      "MSE (on validation set 8/10) = 3.55 | c = 0.5 | lambda = 0.02\n",
      "MSE (on validation set 9/10) = 9.40 | c = 4 | lambda = 0.005\n"
     ]
    },
    {
     "name": "stderr",
     "output_type": "stream",
     "text": [
      "\r",
      "  0%|                                                                                          | 0/100 [00:00<?, ?it/s]"
     ]
    },
    {
     "name": "stdout",
     "output_type": "stream",
     "text": [
      "MSE (on validation set 10/10) = 8.37 | c = 0.5 | lambda = 0.005\n",
      "MSE Cross Validation = 10.3 +- 6.71\n",
      "Best lambda = 0.0284 +- 0.0302\n",
      "Best c = 19.1 +- 31.3\n",
      "##########\n",
      "Regularizaion: 0.028416666666666666\n",
      "Max epoch: 100\n",
      "Kernel Pegasos: Polynomial kernel (c=19.11111111111111, p=2)\n"
     ]
    },
    {
     "name": "stderr",
     "output_type": "stream",
     "text": [
      "100%|████████████████████████████████████████████████████████████████████████████████| 100/100 [00:04<00:00, 24.99it/s]"
     ]
    },
    {
     "name": "stdout",
     "output_type": "stream",
     "text": [
      "##########\n"
     ]
    },
    {
     "name": "stderr",
     "output_type": "stream",
     "text": [
      "\n"
     ]
    }
   ],
   "source": [
    "MSE_mean = 0\n",
    "MSE_list = []\n",
    "c_best_list = []\n",
    "l_best_list = []\n",
    "for n_val in range (n_bags):\n",
    "    X_train_ = []\n",
    "    y_train_ = []\n",
    "    X_val_ = np.array(bags_list[n_val].x)\n",
    "    y_val_ =  np.array(bags_list[n_val].y)\n",
    "    for n in range (n_bags):\n",
    "        if n_val != n:\n",
    "            X_train_ += bags_list[n].x\n",
    "            y_train_ += bags_list[n].y\n",
    "    X_train_ = np.array(X_train_)\n",
    "    y_train_ = np.array(y_train_)\n",
    "\n",
    "\n",
    "    best_val = 1E8\n",
    "    best_l = 0\n",
    "    best_c = 0\n",
    "    for c in [0, 1, 10, 100]:\n",
    "        Kernel_2 = Kernel_p(c=c, p=2)\n",
    "        for l in [1E-5, 1E-4, 1E-3, 1E-2, 0.1, 1, 10]:\n",
    "            Pegasos_reg_kernel_2 = Pegasos_kernel(kernel=Kernel_2, \n",
    "                                                regularization=l, \n",
    "                                                epoch_max=epoch_max, \n",
    "                                                epsilon=1E-8,\n",
    "                                                verbose=False)\n",
    "            Pegasos_reg_kernel_2.fit(X_train_, y_train_)\n",
    "            MSE_Pegasos_val_2 = Pegasos_reg_kernel_2.MSE(X_val_, y_val_)\n",
    "            if MSE_Pegasos_val_2 < best_val:\n",
    "                best_l = l\n",
    "                best_val = MSE_Pegasos_val_2        \n",
    "                best_c = c\n",
    "                \n",
    "    c_search = [best_c * n for n in [1/9, 1/8, 1/7, 1/6, 1/5, 1/4, 1/3, 1/2, 1, 2, 3, 4, 5, 6, 7, 8, 9]]\n",
    "    l_search = [best_l * n for n in [1/9, 1/8, 1/7, 1/6, 1/5, 1/4, 1/3, 1/2, 1, 2, 3, 4, 5, 6, 7, 8, 9]]\n",
    "    for c in c_search:\n",
    "        Kernel_2 = Kernel_p(c=c, p=2)\n",
    "        for l in l_search:\n",
    "            Pegasos_reg_kernel_2 = Pegasos_kernel(kernel=Kernel_2, \n",
    "                                                regularization=l, \n",
    "                                                epoch_max=epoch_max, \n",
    "                                                epsilon=1E-8,\n",
    "                                                verbose=False)\n",
    "            Pegasos_reg_kernel_2.fit(X_train_, y_train_)\n",
    "            MSE_Pegasos_val_2 = Pegasos_reg_kernel_2.MSE(X_val_, y_val_)\n",
    "            if MSE_Pegasos_val_2 < best_val:\n",
    "                best_l = l\n",
    "                best_val = MSE_Pegasos_val_2        \n",
    "                best_c = c\n",
    "    \n",
    "    c_best_list.append(best_c)\n",
    "    l_best_list.append(best_l)\n",
    "    MSE_list.append(best_val)\n",
    "\n",
    "    MSE_mean += best_val / n_bags \n",
    "    print('MSE (on validation set {}/{}) = {:.2f} | c = {} | lambda = {:.2g}'.format(n_val+1, n_bags, best_val, best_c, best_l))\n",
    "MSE_array = np.array(MSE_list)\n",
    "best_l_array = np.array(l_best_list)\n",
    "c_best_array = np.array(c_best_list)\n",
    "print('MSE Cross Validation = {:.3g} +- {:.3g}'.format(MSE_mean, MSE_array.var(ddof=1)**0.5))\n",
    "print('Best lambda = {:.3g} +- {:.3g}'.format(best_l_array.mean(), best_l_array.var(ddof=1)**0.5))\n",
    "print('Best c = {:.3g} +- {:.3g}'.format(c_best_array.mean(), c_best_array.var(ddof=1)**0.5))\n",
    "\n",
    "l_best = best_l_array.mean()\n",
    "c_best = c_best_array.mean()\n",
    "Kernel_2 = Kernel_p(c=c_best, p=2)\n",
    "Pegasos_kernel_quadratic_CV = Pegasos_kernel(kernel=Kernel_2,\n",
    "                                          regularization=l_best,\n",
    "                                          epoch_max=epoch_max,\n",
    "                                          epsilon=1E-8,\n",
    "                                           )\n",
    "Pegasos_kernel_quadratic_CV.fit(X_train, y_train)"
   ]
  },
  {
   "cell_type": "markdown",
   "metadata": {},
   "source": [
    "Kubic example, the procedure is repeated."
   ]
  },
  {
   "cell_type": "code",
   "execution_count": 14,
   "metadata": {},
   "outputs": [
    {
     "name": "stdout",
     "output_type": "stream",
     "text": [
      "MSE (on validation set 1/10) = 5.49 | c = 10 | lambda = 2\n",
      "MSE (on validation set 2/10) = 18.89 | c = 30 | lambda = 0.25\n",
      "MSE (on validation set 3/10) = 5.50 | c = 40 | lambda = 4\n",
      "MSE (on validation set 4/10) = 9.50 | c = 100 | lambda = 33\n",
      "MSE (on validation set 5/10) = 6.76 | c = 50.0 | lambda = 33\n",
      "MSE (on validation set 6/10) = 25.27 | c = 100 | lambda = 33\n",
      "MSE (on validation set 7/10) = 15.41 | c = 40 | lambda = 4\n",
      "MSE (on validation set 8/10) = 3.78 | c = 25.0 | lambda = 11\n",
      "MSE (on validation set 9/10) = 9.80 | c = 20 | lambda = 1\n"
     ]
    },
    {
     "name": "stderr",
     "output_type": "stream",
     "text": [
      "  3%|██▍                                                                               | 3/100 [00:00<00:04, 24.19it/s]"
     ]
    },
    {
     "name": "stdout",
     "output_type": "stream",
     "text": [
      "MSE (on validation set 10/10) = 6.08 | c = 3.333333333333333 | lambda = 0.11\n",
      "Mean MSE Cross Validation = 10.6 +- 7.01\n",
      "Best lambda = 12.2 +- 14.9\n",
      "Best c = 41.8 +- 33.7\n",
      "##########\n",
      "Regularizaion: 12.247222222222222\n",
      "Max epoch: 100\n",
      "Kernel Pegasos: Polynomial kernel (c=41.83333333333333, p=3)\n"
     ]
    },
    {
     "name": "stderr",
     "output_type": "stream",
     "text": [
      "100%|████████████████████████████████████████████████████████████████████████████████| 100/100 [00:03<00:00, 29.50it/s]"
     ]
    },
    {
     "name": "stdout",
     "output_type": "stream",
     "text": [
      "##########\n"
     ]
    },
    {
     "name": "stderr",
     "output_type": "stream",
     "text": [
      "\n"
     ]
    }
   ],
   "source": [
    "MSE_mean = 0\n",
    "MSE_list = []\n",
    "c_best_list = []\n",
    "l_best_list = []\n",
    "for n_val in range (n_bags):\n",
    "    X_train_ = []\n",
    "    y_train_ = []\n",
    "    X_val_ = np.array(bags_list[n_val].x)\n",
    "    y_val_ =  np.array(bags_list[n_val].y)\n",
    "    for n in range (n_bags):\n",
    "        if n_val != n:\n",
    "            X_train_ += bags_list[n].x\n",
    "            y_train_ += bags_list[n].y\n",
    "    X_train_ = np.array(X_train_)\n",
    "    y_train_ = np.array(y_train_)\n",
    "\n",
    "\n",
    "    best_val = 1E8\n",
    "    best_l = 0\n",
    "    best_c = 0\n",
    "    for c in [0, 1, 10, 100, 1000]:\n",
    "        Kernel_3 = Kernel_p(c=c, p=3)\n",
    "        for l in [0.01, 0.1, 1, 10, 100, 1000]:\n",
    "            Pegasos_reg_kernel_3 = Pegasos_kernel(kernel=Kernel_3, \n",
    "                                                regularization=l, \n",
    "                                                epoch_max=epoch_max, \n",
    "                                                epsilon=1E-8,\n",
    "                                                verbose=False)\n",
    "            Pegasos_reg_kernel_3.fit(X_train_, y_train_)\n",
    "            MSE_Pegasos_val_3 = Pegasos_reg_kernel_3.MSE(X_val_, y_val_)\n",
    "            if MSE_Pegasos_val_3 < best_val:\n",
    "                best_l = l\n",
    "                best_val = MSE_Pegasos_val_3        \n",
    "                best_c = c\n",
    "    c_search = [best_c * n for n in [1/9, 1/8, 1/7, 1/6, 1/5, 1/4, 1/3, 1/2, 1, 2, 3, 4, 5, 6, 7, 8, 9]]\n",
    "    l_search = [best_l * n for n in [1/9, 1/8, 1/7, 1/6, 1/5, 1/4, 1/3, 1/2, 1, 2, 3, 4, 5, 6, 7, 8, 9]]\n",
    "    for c in c_search:\n",
    "        Kernel_3 = Kernel_p(c=c, p=3)\n",
    "        for l in l_search:\n",
    "            Pegasos_reg_kernel_3 = Pegasos_kernel(kernel=Kernel_3, \n",
    "                                                regularization=l, \n",
    "                                                epoch_max=epoch_max, \n",
    "                                                epsilon=1E-8,\n",
    "                                                verbose=False)\n",
    "            Pegasos_reg_kernel_3.fit(X_train_, y_train_)\n",
    "            MSE_Pegasos_val_3 = Pegasos_reg_kernel_3.MSE(X_val_, y_val_)\n",
    "            if MSE_Pegasos_val_3 < best_val:\n",
    "                best_l = l\n",
    "                best_val = MSE_Pegasos_val_3        \n",
    "                best_c = c\n",
    "    c_best_list.append(best_c)\n",
    "    l_best_list.append(best_l)\n",
    "    MSE_list.append(best_val)\n",
    "\n",
    "    MSE_mean += best_val / n_bags \n",
    "    print('MSE (on validation set {}/{}) = {:.2f} | c = {} | lambda = {:.2g}'.format(n_val+1, n_bags, best_val, best_c, best_l))\n",
    "\n",
    "MSE_array = np.array(MSE_list)\n",
    "best_l_array = np.array(l_best_list)\n",
    "c_best_array = np.array(c_best_list)\n",
    "print('Mean MSE Cross Validation = {:.3g} +- {:.3g}'.format(MSE_mean, MSE_array.var(ddof=1)**0.5))\n",
    "print('Best lambda = {:.3g} +- {:.3g}'.format(best_l_array.mean(), best_l_array.var(ddof=1)**0.5))\n",
    "print('Best c = {:.3g} +- {:.3g}'.format(c_best_array.mean(), c_best_array.var(ddof=1)**0.5))\n",
    "\n",
    "l_best = best_l_array.mean()\n",
    "c_best = c_best_array.mean()\n",
    "Kernel_3 = Kernel_p(c=c_best, p=3)\n",
    "Pegasos_kernel_kubic_CV = Pegasos_kernel(kernel=Kernel_3,\n",
    "                                          regularization=l_best,\n",
    "                                          epoch_max=epoch_max,\n",
    "                                          epsilon=1E-8,\n",
    "                                           )\n",
    "Pegasos_kernel_kubic_CV.fit(X_train, y_train)"
   ]
  },
  {
   "cell_type": "code",
   "execution_count": 15,
   "metadata": {},
   "outputs": [
    {
     "name": "stdout",
     "output_type": "stream",
     "text": [
      "MSE (on validation set 1/10) = 4.82 | gamma = 0.03 | lambda = 2e-05\n",
      "MSE (on validation set 2/10) = 23.56 | gamma = 0.03 | lambda = 1e-05\n",
      "MSE (on validation set 3/10) = 4.80 | gamma = 0.2 | lambda = 3.3e-05\n",
      "MSE (on validation set 4/10) = 8.24 | gamma = 0.03333333333333333 | lambda = 3.3e-05\n",
      "MSE (on validation set 5/10) = 6.61 | gamma = 0.02 | lambda = 3.3e-05\n",
      "MSE (on validation set 6/10) = 8.05 | gamma = 0.30000000000000004 | lambda = 0.0001\n",
      "MSE (on validation set 7/10) = 17.22 | gamma = 0.01 | lambda = 1e-05\n",
      "MSE (on validation set 8/10) = 3.99 | gamma = 0.016666666666666666 | lambda = 5e-05\n",
      "MSE (on validation set 9/10) = 10.12 | gamma = 0.025 | lambda = 2.5e-05\n"
     ]
    },
    {
     "name": "stderr",
     "output_type": "stream",
     "text": [
      "  2%|█▋                                                                                | 2/100 [00:00<00:05, 16.95it/s]"
     ]
    },
    {
     "name": "stdout",
     "output_type": "stream",
     "text": [
      "MSE (on validation set 10/10) = 4.91 | gamma = 0.30000000000000004 | lambda = 5e-05\n",
      "Mean MSE Cross Validation = 9.23 +- 6.36\n",
      "Best lambda = 3.65e-05 +- 2.63e-05\n",
      "Best gamma = 0.0965 +- 0.121\n",
      "##########\n",
      "Regularizaion: 3.6500000000000006e-05\n",
      "Max epoch: 100\n",
      "Kernel Pegasos: Radial basis function (gamma=0.09650000000000002)\n"
     ]
    },
    {
     "name": "stderr",
     "output_type": "stream",
     "text": [
      "100%|████████████████████████████████████████████████████████████████████████████████| 100/100 [00:06<00:00, 15.21it/s]"
     ]
    },
    {
     "name": "stdout",
     "output_type": "stream",
     "text": [
      "##########\n"
     ]
    },
    {
     "name": "stderr",
     "output_type": "stream",
     "text": [
      "\n"
     ]
    }
   ],
   "source": [
    "MSE_mean = 0\n",
    "MSE_list = []\n",
    "gamma_best_list = []\n",
    "l_best_list = []\n",
    "for n_val in range (n_bags):\n",
    "    X_train_ = []\n",
    "    y_train_ = []\n",
    "    X_val_ = np.array(bags_list[n_val].x)\n",
    "    y_val_ =  np.array(bags_list[n_val].y)\n",
    "    for n in range (n_bags):\n",
    "        if n_val != n:\n",
    "            X_train_ += bags_list[n].x\n",
    "            y_train_ += bags_list[n].y\n",
    "    X_train_ = np.array(X_train_)\n",
    "    y_train_ = np.array(y_train_)\n",
    "\n",
    "    best_val = 1E8\n",
    "    best_l = 0\n",
    "    best_gamma = 0\n",
    "    for gamma in [0.000001, 0.00001, 0.0001, 0.001, 0.01, 0.1]:\n",
    "        Kernel_ = Kernel_rbf(gamma=gamma)\n",
    "        for l in [0.00001, 0.0001, 0.001, 0.01, 0.1, 1, 10, 100]:\n",
    "            Pegasos_reg_rbf = Pegasos_kernel(kernel=Kernel_, \n",
    "                                                regularization=l, \n",
    "                                                epoch_max=epoch_max, \n",
    "                                                epsilon=1E-8,\n",
    "                                                verbose=False)\n",
    "            Pegasos_reg_rbf.fit(X_train_, y_train_)\n",
    "            MSE_Pegasos_val_4 = Pegasos_reg_rbf.MSE(X_val_, y_val_)\n",
    "            if MSE_Pegasos_val_4 < best_val:\n",
    "                best_l = l\n",
    "                best_val = MSE_Pegasos_val_4        \n",
    "                best_gamma = gamma\n",
    "                \n",
    "    gamma_search = [best_gamma * n for n in [1/9, 1/8, 1/7, 1/6, 1/5, 1/4, 1/3, 1/2, 1, 2, 3, 4, 5, 6, 7, 8, 9]]\n",
    "    l_search = [best_l * n for n in [1/9, 1/8, 1/7, 1/6, 1/5, 1/4, 1/3, 1/2, 1, 2, 3, 4, 5, 6, 7, 8, 9]]\n",
    "    for gamma in gamma_search:\n",
    "        Kernel_ = Kernel_rbf(gamma=gamma)\n",
    "        for l in l_search:\n",
    "            Pegasos_reg_rbf = Pegasos_kernel(kernel=Kernel_, \n",
    "                                                regularization=l, \n",
    "                                                epoch_max=epoch_max, \n",
    "                                                epsilon=1E-8,\n",
    "                                                verbose=False)\n",
    "            Pegasos_reg_rbf.fit(X_train_, y_train_)\n",
    "            MSE_Pegasos_val_4 = Pegasos_reg_rbf.MSE(X_val_, y_val_)\n",
    "\n",
    "            if MSE_Pegasos_val_4 < best_val:\n",
    "                best_l = l\n",
    "                best_val = MSE_Pegasos_val_4        \n",
    "                best_gamma = gamma\n",
    "                \n",
    "    gamma_best_list.append(best_gamma)\n",
    "    l_best_list.append(best_l)\n",
    "    MSE_list.append(best_val)\n",
    "\n",
    "    MSE_mean += best_val / n_bags \n",
    "    print('MSE (on validation set {}/{}) = {:.2f} | gamma = {} | lambda = {:.2g}'.format(n_val+1, n_bags, best_val, best_gamma, best_l))\n",
    "\n",
    "MSE_array = np.array(MSE_list)\n",
    "best_l_array = np.array(l_best_list)\n",
    "gamma_best_array = np.array(gamma_best_list)\n",
    "print('Mean MSE Cross Validation = {:.3g} +- {:.3g}'.format(MSE_mean, MSE_array.var(ddof=1)**0.5))\n",
    "print('Best lambda = {:.3g} +- {:.3g}'.format(best_l_array.mean(), best_l_array.var(ddof=1)**0.5))\n",
    "print('Best gamma = {:.3g} +- {:.3g}'.format(gamma_best_array.mean(), gamma_best_array.var(ddof=1)**0.5))\n",
    "\n",
    "l_best = best_l_array.mean()\n",
    "gamma_best = gamma_best_array.mean()\n",
    "Kernel_ = Kernel_rbf(gamma=gamma_best)\n",
    "Pegasos_kernel_rbf_CV = Pegasos_kernel(kernel=Kernel_,\n",
    "                                          regularization=l_best,\n",
    "                                          epoch_max=epoch_max,\n",
    "                                          epsilon=1E-8,\n",
    "                                           )\n",
    "Pegasos_kernel_rbf_CV.fit(X_train, y_train)"
   ]
  },
  {
   "cell_type": "markdown",
   "metadata": {},
   "source": [
    "The linear regression model is fitted. \n",
    "This model is the base line for measuring the models' performances."
   ]
  },
  {
   "cell_type": "code",
   "execution_count": 16,
   "metadata": {},
   "outputs": [],
   "source": [
    "lin_reg = LinearRegression()\n",
    "lin_reg.fit(X_train, y_train)\n",
    "y_test_sklearn = np.dot(X_test, lin_reg.coef_) + lin_reg.intercept_"
   ]
  },
  {
   "cell_type": "markdown",
   "metadata": {},
   "source": [
    "The weights and bias' of the *Linear Regression* and *linear Pegasos* are compared."
   ]
  },
  {
   "cell_type": "code",
   "execution_count": 17,
   "metadata": {},
   "outputs": [
    {
     "name": "stdout",
     "output_type": "stream",
     "text": [
      "                      0      1      2      3      4      5     6      7     8  \\\n",
      "Name               Bias   CRIM     ZN  INDUS   CHAS    NOX    RM    AGE   DIS   \n",
      "Linear Regression  22.6 -0.892   1.22 -0.136   0.59     -2  2.53  0.296 -3.23   \n",
      "Pegasos linear     21.6  -0.69  0.696  -0.19  0.443 -0.832  3.36 -0.479 -1.59   \n",
      "\n",
      "                       9    10       11     12     13  \n",
      "Name                 RAD   TAX  PTRATIO      B  LSTAT  \n",
      "Linear Regression   2.85 -2.44    -1.97  0.791  -3.91  \n",
      "Pegasos linear     0.982  -1.3    -1.69      1  -2.23  \n"
     ]
    }
   ],
   "source": [
    "pd.set_option('display.max_columns', None)\n",
    "pd.set_option('display.max_rows', None)\n",
    "compare_weights = pd.DataFrame()\n",
    "compare_weights['Name'] = ['Bias'] + list(column_names[:-1])\n",
    "compare_weights['Linear Regression'] = np.append(lin_reg.intercept_, lin_reg.coef_)\n",
    "compare_weights['Pegasos linear'] = np.append(Pegasos_linear_CV.theta_0, Pegasos_linear_CV.theta)\n",
    "pd.set_option('display.precision', 3)\n",
    "print(compare_weights.T)  "
   ]
  },
  {
   "cell_type": "markdown",
   "metadata": {},
   "source": [
    "The Mean Squared Error (MSE) on the test data set is compared. In addition, the increase in MSE is referenced to the analytical solution of the *Linear Regression*."
   ]
  },
  {
   "cell_type": "code",
   "execution_count": 18,
   "metadata": {},
   "outputs": [
    {
     "name": "stdout",
     "output_type": "stream",
     "text": [
      "                              Deviation / %     MSE\n",
      "Sklearn                               0.000  22.266\n",
      "Pegasos (linear)                     -3.715  23.094\n",
      "Pegasos (Kernel - linear)            -3.718  23.094\n",
      "Pegasos (Kernel - quadratic)         54.364  10.161\n",
      "Pegasos (Kernel - kubic)             45.196  12.203\n",
      "Pegasos (Kernel - rbf)               66.802   7.392\n"
     ]
    }
   ],
   "source": [
    "MSE_compare = pd.Series(dtype=float)\n",
    "ARD_compare = pd.Series(dtype=float) \n",
    "MSE_compare['Sklearn'] = Metric_regression().fun_MSE(y_test, y_test_sklearn)\n",
    "MSE_compare['Pegasos (linear)'] = Pegasos_linear_CV.MSE(X_test, y_test)\n",
    "MSE_compare['Pegasos (Kernel - linear)'] = Pegasos_kernel_linear_CV.MSE(X_test, y_test)\n",
    "MSE_compare['Pegasos (Kernel - quadratic)'] = Pegasos_kernel_quadratic_CV.MSE(X_test, y_test)\n",
    "MSE_compare['Pegasos (Kernel - kubic)'] = Pegasos_kernel_kubic_CV.MSE(X_test, y_test)\n",
    "MSE_compare['Pegasos (Kernel - rbf)']  = Pegasos_kernel_rbf_CV.MSE(X_test, y_test)\n",
    "\n",
    "ARD_compare['Sklearn'] = 0\n",
    "ARD_compare['Pegasos (linear)'] = -(MSE_compare['Pegasos (linear)'] - MSE_compare['Sklearn'])  / MSE_compare['Sklearn']*100\n",
    "ARD_compare['Pegasos (Kernel - linear)'] = -(MSE_compare['Pegasos (Kernel - linear)'] - MSE_compare['Sklearn'])  / MSE_compare['Sklearn']*100\n",
    "ARD_compare['Pegasos (Kernel - quadratic)'] = -(MSE_compare['Pegasos (Kernel - quadratic)'] - MSE_compare['Sklearn'])  / MSE_compare['Sklearn']*100\n",
    "ARD_compare['Pegasos (Kernel - kubic)'] = -(MSE_compare['Pegasos (Kernel - kubic)'] - MSE_compare['Sklearn'])  / MSE_compare['Sklearn']*100\n",
    "ARD_compare['Pegasos (Kernel - rbf)'] = -(MSE_compare['Pegasos (Kernel - rbf)'] - MSE_compare['Sklearn'])  / MSE_compare['Sklearn']*100\n",
    "\n",
    "MSE_DF = MSE_compare.to_frame(name='MSE')\n",
    "ARD_DF = ARD_compare.to_frame(name='Deviation / %')\n",
    "performance_DF = pd.concat([ARD_DF, MSE_DF], axis=1)\n",
    "print(performance_DF)"
   ]
  },
  {
   "cell_type": "markdown",
   "metadata": {},
   "source": [
    "The test error is a measurement for the future predictive performance. \n",
    "Interestingly, the the *linear Pegasos* and the *Pegasos (Kernel - linear)* are outperformed by the Linear Regression (Sklearn). \n",
    "\n",
    "The error is composed of the bias, variance of the model, and noise of the data.  \n",
    "For evaluation the cause of the poor performance, the validation error is plotted as a function of the number of trainings data, while keeping the validation constant. "
   ]
  },
  {
   "cell_type": "code",
   "execution_count": 19,
   "metadata": {},
   "outputs": [
    {
     "name": "stderr",
     "output_type": "stream",
     "text": [
      "100%|████████████████████████████████████████████████████████████████████████████████| 313/313 [04:07<00:00,  1.26it/s]\n"
     ]
    },
    {
     "data": {
      "image/png": "[encoded data removed]",
      "text/plain": [
       "<Figure size 432x288 with 1 Axes>"
      ]
     },
     "metadata": {
      "needs_background": "light"
     },
     "output_type": "display_data"
    }
   ],
   "source": [
    "MSE_train = []\n",
    "MSE_val = []\n",
    "train_samples = []\n",
    "Pegasos_linear_CV = Pegasos_regression(regularization=l_best_linear,\n",
    "                             epoch_max=epoch_max,\n",
    "                             epsilon=1E-8,\n",
    "                             verbose=False)\n",
    "\n",
    "n = X_train.shape[0]\n",
    "split_fraction = 0.8\n",
    "n_split = int(n * split_fraction)\n",
    "X_val_ = X_train[n_split:,:]\n",
    "y_val_ = y_train[n_split:]\n",
    "\n",
    "lin_reg_sub = LinearRegression()\n",
    "lin_reg_sub.fit(X_train[:n_split,:], y_train[:n_split])\n",
    "y_val = np.dot(X_val_, lin_reg_sub.coef_) + lin_reg_sub.intercept_\n",
    "MSE_epsilon = Metric_regression().fun_MSE(y_val, y_val_)\n",
    "\n",
    "n_start = 10\n",
    "for n_sample in tqdm(range(n_start, n_split)):\n",
    "    train_samples.append(n_sample)\n",
    "    X_train_sub = X_train[:n_sample,:]\n",
    "    y_train_sub = y_train[:n_sample]\n",
    "    \n",
    "    Pegasos_linear_CV.fit(X_train_sub, y_train_sub)\n",
    "    MSE_train.append(Pegasos_linear_CV.MSE(X_train_sub, y_train_sub))\n",
    "    MSE_val.append(Pegasos_linear_CV.MSE(X_val_, y_val_))\n",
    "   \n",
    "plt.plot(train_samples, [MSE_epsilon for n in range(n_start, n_split)])\n",
    "plt.plot(train_samples, MSE_train)\n",
    "plt.plot(train_samples, MSE_val)\n",
    "plt.xlim(0, n_split)\n",
    "plt.xlabel('$n_\\mathrm{{train}}$ / -')\n",
    "plt.ylabel('MSE$\\mathrm{_{val}}$')\n",
    "plt.legend(['Linear Regression','Training', 'Testing'])\n",
    "plt.yscale('log')\n",
    "plt.show()"
   ]
  },
  {
   "cell_type": "markdown",
   "metadata": {},
   "source": [
    "The Training and testing error are both above the *Linear Regression's*. \n",
    "Therefore, the model's capacity is not high enough.\n",
    "The capacity is increased with the qudratic and kubic kernels resulting in decreasing validaiton errors.\n",
    "\n",
    "## Evaluating the maximum of iteration\n",
    "The SVM (RBF - Kernel) with Pegasos achieved the best test error. \n",
    "The optimal value for the hyperparameter *maximum epoch* is evaluated. \n",
    "Information of the test dataset must not be used to improve the models.\n",
    "Therefore, the trainings dataset is splitted in *sub train* and *validation* datasets.\n",
    "The *maximum epoch* is increased performing hyperparameter search ($\\lambda$ and $\\gamma$) in a inner loop. \n",
    "The subtrainings and validation error is shown with respect to the *maximum epoch*.\n",
    "The result are compared with the Linear Regression as a baseline."
   ]
  },
  {
   "cell_type": "code",
   "execution_count": 20,
   "metadata": {},
   "outputs": [],
   "source": [
    "np.random.seed(42)\n",
    "n = X_train.shape[0]\n",
    "split_fraction = 0.8\n",
    "n_random = np.random.permutation(n)\n",
    "n_sub_train = n_random[:int(n*split_fraction)]\n",
    "n_val = n_random[int(n*split_fraction):]\n",
    "\n",
    "X_train_sub = X_train[n_sub_train,:]\n",
    "y_train_sub = y_train[n_sub_train]\n",
    "\n",
    "X_val = X[n_val,:]\n",
    "y_val =  y[n_val]\n",
    "\n",
    "bags_list_sub = preparation_cross_validation(X_train_sub, y_train_sub, n_bags)"
   ]
  },
  {
   "cell_type": "code",
   "execution_count": 21,
   "metadata": {},
   "outputs": [
    {
     "name": "stdout",
     "output_type": "stream",
     "text": [
      "Max Epoch = 10 | MSE_val = 38.23 |MSE_sub_train = 11.35 | gamma = 14 | lambda = 0.01\n",
      "Max Epoch = 20 | MSE_val = 26.65 |MSE_sub_train = 7.70 | gamma = 13 | lambda = 0.009\n",
      "Max Epoch = 30 | MSE_val = 26.07 |MSE_sub_train = 6.69 | gamma = 11 | lambda = 0.01\n",
      "Max Epoch = 40 | MSE_val = 27.51 |MSE_sub_train = 8.85 | gamma = 10 | lambda = 0.005\n",
      "Max Epoch = 50 | MSE_val = 35.63 |MSE_sub_train = 15.29 | gamma = 10 | lambda = 0.0017\n",
      "Max Epoch = 60 | MSE_val = 20.76 |MSE_sub_train = 11.89 | gamma = 10 | lambda = 0.0033\n",
      "Max Epoch = 70 | MSE_val = 27.13 |MSE_sub_train = 9.56 | gamma = 10 | lambda = 0.005\n",
      "Max Epoch = 80 | MSE_val = 26.75 |MSE_sub_train = 9.79 | gamma = 8.3 | lambda = 0.0025\n",
      "Max Epoch = 90 | MSE_val = 26.97 |MSE_sub_train = 13.48 | gamma = 9.4 | lambda = 0.005\n",
      "Max Epoch = 100 | MSE_val = 28.89 |MSE_sub_train = 10.57 | gamma = 7.7 | lambda = 0.0025\n",
      "Max Epoch = 110 | MSE_val = 28.45 |MSE_sub_train = 10.97 | gamma = 9.2 | lambda = 0.0033\n",
      "Max Epoch = 120 | MSE_val = 24.48 |MSE_sub_train = 8.86 | gamma = 8.8 | lambda = 0.0025\n",
      "Max Epoch = 130 | MSE_val = 33.95 |MSE_sub_train = 15.26 | gamma = 9.7 | lambda = 0.0025\n",
      "Max Epoch = 140 | MSE_val = 51.69 |MSE_sub_train = 33.82 | gamma = 9.1 | lambda = 0.002\n"
     ]
    }
   ],
   "source": [
    "MSE_mean = 0\n",
    "MSE_list_bag = []\n",
    "gamma_best_list = []\n",
    "l_best_list = []\n",
    "max_max_epoch = 150\n",
    "max_max_epoch = int(max_max_epoch / 10)\n",
    "epoch_max_list = [10*i for i in range(1, max_max_epoch)]\n",
    "MSE_val_epoch = []\n",
    "MSE_train_epoch =  []\n",
    "\n",
    "for epoch_max_ in epoch_max_list:\n",
    "    for n_val in range (n_bags):\n",
    "        X_train_ = []\n",
    "        y_train_ = []\n",
    "        X_val_ = np.array(bags_list_sub[n_val].x)\n",
    "        y_val_ =  np.array(bags_list_sub[n_val].y)\n",
    "        for n in range (n_bags):\n",
    "            if n_val != n:\n",
    "                X_train_ += bags_list_sub[n].x\n",
    "                y_train_ += bags_list_sub[n].y\n",
    "        X_train_ = np.array(X_train_)\n",
    "        y_train_ = np.array(y_train_)\n",
    "\n",
    "        best_val = 1E8\n",
    "        best_l = 0\n",
    "        MSE_train = 0\n",
    "        best_gamma = 0\n",
    "        for gamma in [0.000001, 0.00001, 0.0001, 0.001, 0.01, 0.1]:\n",
    "            Kernel_ = Kernel_rbf(gamma=gamma)\n",
    "            for l in [0.00001, 0.0001, 0.001, 0.01, 0.1, 1, 10, 100]:\n",
    "                Pegasos_reg_rbf = Pegasos_kernel(kernel=Kernel_, \n",
    "                                                    regularization=l, \n",
    "                                                    epoch_max=epoch_max_, \n",
    "                                                    epsilon=1E-8,\n",
    "                                                    verbose=False)\n",
    "                Pegasos_reg_rbf.fit(X_train_, y_train_)\n",
    "                MSE_Pegasos_val_4 = Pegasos_reg_rbf.MSE(X_val_, y_val_)\n",
    "                if MSE_Pegasos_val_4 < best_val:\n",
    "                    best_l = l\n",
    "                    best_val = MSE_Pegasos_val_4        \n",
    "                    best_gamma = gamma\n",
    "\n",
    "        gamma_search = [best_gamma * n for n in [1/9, 1/8, 1/7, 1/6, 1/5, 1/4, 1/3, 1/2, 1, 2, 3, 4, 5, 6, 7, 8, 9]]\n",
    "        l_search = [best_l * n for n in [1/9, 1/8, 1/7, 1/6, 1/5, 1/4, 1/3, 1/2, 1, 2, 3, 4, 5, 6, 7, 8, 9]]\n",
    "        for gamma in gamma_search:\n",
    "            Kernel_ = Kernel_rbf(gamma=gamma)\n",
    "            for l in l_search:\n",
    "                Pegasos_reg_rbf = Pegasos_kernel(kernel=Kernel_, \n",
    "                                                    regularization=l, \n",
    "                                                    epoch_max=epoch_max_, \n",
    "                                                    epsilon=1E-8,\n",
    "                                                    verbose=False)\n",
    "                Pegasos_reg_rbf.fit(X_train_, y_train_)\n",
    "                MSE_Pegasos_val_4 = Pegasos_reg_rbf.MSE(X_val_, y_val_)\n",
    "\n",
    "                if MSE_Pegasos_val_4 < best_val:\n",
    "                    best_l = l\n",
    "                    best_val = MSE_Pegasos_val_4        \n",
    "                    best_gamma = gamma          \n",
    "                    \n",
    "    Kernel_ = Kernel_rbf(gamma=best_gamma)                \n",
    "    Pegasos_reg_rbf_opt = Pegasos_kernel(kernel=Kernel_, \n",
    "                                                    regularization=best_l, \n",
    "                                                    epoch_max=epoch_max_, \n",
    "                                                    epsilon=1E-8,\n",
    "                                                    verbose=False)        \n",
    "    Pegasos_reg_rbf_opt.fit(X_train_sub, y_train_sub)\n",
    "    MSE_Pegasos_train = Pegasos_reg_rbf_opt.MSE(X_train_sub, y_train_sub)\n",
    "    MSE_Pegasos_val = Pegasos_reg_rbf_opt.MSE(X_val, y_val)\n",
    "\n",
    "    MSE_val_epoch.append(MSE_Pegasos_val)\n",
    "    MSE_train_epoch.append(MSE_Pegasos_train)\n",
    "    best_l = best_l / n_bags\n",
    "    best_gamma = best_gamma / n_bags\n",
    "    print('Max Epoch = {} | MSE_val = {:.2f} |MSE_sub_train = {:.2f} | gamma = {:.2g} | lambda = {:.2g}'.format(epoch_max_, MSE_Pegasos_val, MSE_Pegasos_train, best_val, best_gamma, best_l))\n"
   ]
  },
  {
   "cell_type": "code",
   "execution_count": 22,
   "metadata": {},
   "outputs": [],
   "source": [
    "lin_reg_sub = LinearRegression()\n",
    "lin_reg_sub.fit(X_train_sub, y_train_sub)\n",
    "y_hat_val = np.dot(X_val, lin_reg_sub.coef_) + lin_reg_sub.intercept_\n",
    "MSE_epsilon = Metric_regression().fun_MSE(y_hat_val, y_val) "
   ]
  },
  {
   "cell_type": "code",
   "execution_count": 23,
   "metadata": {},
   "outputs": [
    {
     "data": {
      "image/png": "[encoded data removed]",
      "text/plain": [
       "<Figure size 432x288 with 1 Axes>"
      ]
     },
     "metadata": {
      "needs_background": "light"
     },
     "output_type": "display_data"
    }
   ],
   "source": [
    "plt.plot(epoch_max_list, [MSE_epsilon for n in epoch_max_list])\n",
    "plt.plot(epoch_max_list, MSE_val_epoch)\n",
    "plt.plot(epoch_max_list, MSE_train_epoch)\n",
    "plt.xlabel('Epoch$_\\mathrm{{max}}$ / -')\n",
    "plt.ylabel('MSE$\\mathrm{_{Pegasos - RFB Kernel}}$')\n",
    "plt.legend(['Linear Regression','Validation', 'Training'])\n",
    "#plt.yscale('log')\n",
    "plt.show()"
   ]
  },
  {
   "cell_type": "code",
   "execution_count": null,
   "metadata": {},
   "outputs": [],
   "source": []
  }
 ],
 "metadata": {
  "kernelspec": {
   "display_name": "Python 3",
   "language": "python",
   "name": "python3"
  },
  "language_info": {
   "codemirror_mode": {
    "name": "ipython",
    "version": 3
   },
   "file_extension": ".py",
   "mimetype": "text/x-python",
   "name": "python",
   "nbconvert_exporter": "python",
   "pygments_lexer": "ipython3",
   "version": "3.8.3"
  }
 },
 "nbformat": 4,
 "nbformat_minor": 4
}
