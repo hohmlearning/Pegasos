{
 "cells": [
  {
   "cell_type": "markdown",
   "metadata": {},
   "source": []
  },
  {
   "cell_type": "code",
   "execution_count": 26,
   "metadata": {},
   "outputs": [],
   "source": [
    "import pandas as pd\n",
    "import numpy as np\n",
    "from tqdm import tqdm\n",
    "import matplotlib.pyplot as plt\n",
    "from sklearn.linear_model import LinearRegression"
   ]
  },
  {
   "cell_type": "markdown",
   "metadata": {},
   "source": []
  },
  {
   "cell_type": "code",
   "execution_count": 12,
   "metadata": {},
   "outputs": [],
   "source": [
    "import sys\n",
    "sys.path.insert(1, 'Modules/')\n",
    "from Evaluation_Metric import Metric_regression\n",
    "from Cross_validation import preparation_cross_validation\n",
    "golden_section_search = __import__('20220716_Golden_Section_Search').golden_section_search\n",
    "from Primal_Pegasos import Pegasos_regression\n",
    "Pegasos_kernel = __import__('Kernel_Pegasos').Pegasos_kernel_regression\n",
    "Kernel = __import__('Kernel_Pegasos').Kernel_polynomial   "
   ]
  },
  {
   "cell_type": "markdown",
   "metadata": {},
   "source": []
  },
  {
   "cell_type": "code",
   "execution_count": 4,
   "metadata": {},
   "outputs": [],
   "source": [
    "data_url = \"http://lib.stat.cmu.edu/datasets/boston\"\n",
    "raw_df = pd.read_csv(data_url, sep=\"\\s+\", skiprows=22, header=None)\n",
    "\n",
    "data = np.hstack([raw_df.values[::2, :], raw_df.values[1::2, :2]])\n",
    "target = raw_df.values[1::2, 2]\n",
    "\n",
    "column_names = ['CRIM', 'ZN', 'INDUS', 'CHAS', 'NOX', 'RM', 'AGE', 'DIS', 'RAD', 'TAX', 'PTRATIO', 'B', 'LSTAT', 'MEDV']\n"
   ]
  },
  {
   "cell_type": "markdown",
   "metadata": {},
   "source": []
  },
  {
   "cell_type": "code",
   "execution_count": 5,
   "metadata": {},
   "outputs": [],
   "source": [
    "X_nan = np.isnan(data)\n",
    "X_nan = X_nan.sum(axis=1)\n",
    "X_no_nan = X_nan == 0\n",
    "X = data[X_no_nan,:]\n",
    "y = target[X_no_nan]"
   ]
  },
  {
   "cell_type": "markdown",
   "metadata": {},
   "source": []
  },
  {
   "cell_type": "code",
   "execution_count": 6,
   "metadata": {},
   "outputs": [],
   "source": [
    "X = X - X.mean(axis=0)\n",
    "X = X / X.var(axis=0)**0.5"
   ]
  },
  {
   "cell_type": "markdown",
   "metadata": {},
   "source": []
  },
  {
   "cell_type": "code",
   "execution_count": 7,
   "metadata": {},
   "outputs": [],
   "source": [
    "np.random.seed(42)\n",
    "n = X.shape[0]\n",
    "split_fraction = 0.8\n",
    "n_random = np.random.permutation(n)\n",
    "n_train = n_random[:int(n*split_fraction)]\n",
    "n_test = n_random[int(n*split_fraction):]\n",
    "\n",
    "X_train = X[n_train,:]\n",
    "y_train = y[n_train]\n",
    "\n",
    "X_test = X[n_test,:]\n",
    "y_test =  y[n_test]"
   ]
  },
  {
   "cell_type": "markdown",
   "metadata": {},
   "source": []
  },
  {
   "cell_type": "code",
   "execution_count": 9,
   "metadata": {},
   "outputs": [],
   "source": [
    "n_bags = 3\n",
    "np.random.seed(42)\n",
    "bags_list = preparation_cross_validation(X_train, y_train, n_bags)"
   ]
  },
  {
   "cell_type": "markdown",
   "metadata": {},
   "source": []
  },
  {
   "cell_type": "code",
   "execution_count": 13,
   "metadata": {},
   "outputs": [],
   "source": [
    "l_opt_list = []\n",
    "epoch_max_diagram = 100\n",
    "def MSE_l (l, Pegasos_regression, epoch_max, epsilon, X_train, y_train, X_val, y_val):\n",
    "    Pegasos = Pegasos_regression(regularization=l,\n",
    "                                 epoch_max=epoch_max,\n",
    "                                 epsilon=epsilon,\n",
    "                                 verbose=False)\n",
    "    Pegasos.fit(X_train, y_train)\n",
    "    MSE_ = Pegasos.MSE(X_val, y_val)\n",
    "    return (MSE_) "
   ]
  },
  {
   "cell_type": "markdown",
   "metadata": {},
   "source": []
  },
  {
   "cell_type": "code",
   "execution_count": 15,
   "metadata": {},
   "outputs": [
    {
     "name": "stderr",
     "output_type": "stream",
     "text": [
      "100%|███████████████████████████████████████████████████████████████████████████████████| 3/3 [11:31<00:00, 230.38s/it]\n"
     ]
    },
    {
     "data": {
      "image/png": "[encoded data removed]",
      "text/plain": [
       "<Figure size 432x288 with 1 Axes>"
      ]
     },
     "metadata": {
      "needs_background": "light"
     },
     "output_type": "display_data"
    }
   ],
   "source": [
    "legend_list = ['$n\\mathrm{_{bag}}$ = ' + str(i+1) for i in range(n_bags)]\n",
    "l_array = np.linspace(0.00001, 25, 100)\n",
    "for n_val in tqdm(range (n_bags)):\n",
    "    X_train_ = []\n",
    "    y_train_ = []\n",
    "    X_val_ = np.array(bags_list[n_val].x)\n",
    "    y_val_ =  np.array(bags_list[n_val].y)\n",
    "    for n in range (n_bags):\n",
    "        if n_val != n:\n",
    "            X_train_ += bags_list[n].x\n",
    "            y_train_ += bags_list[n].y\n",
    "    X_train_ = np.array(X_train_)\n",
    "    y_train_ = np.array(y_train_)\n",
    "\n",
    "    MSE_min = lambda l: MSE_l(l, \n",
    "                              Pegasos_regression=Pegasos_regression, \n",
    "                              epoch_max=epoch_max_diagram, \n",
    "                              epsilon=1E-8, \n",
    "                              X_train=X_train_, \n",
    "                              y_train=y_train_, \n",
    "                              X_val=X_val_, \n",
    "                              y_val=y_val_)\n",
    "    MSE_min_vec = np.vectorize(MSE_min)\n",
    "    plt.plot(l_array, MSE_min_vec(l_array))\n",
    "\n",
    "plt.title('Epoch$\\mathrm{_{max}}$ = ' + '{:.0f}'.format(epoch_max_diagram))\n",
    "plt.xlabel('$\\lambda$ / -')\n",
    "plt.ylabel('MEDV$\\mathrm{_{val}}$')\n",
    "plt.legend(legend_list, loc='upper right', fontsize='xx-small')\n",
    "plt.show()"
   ]
  },
  {
   "cell_type": "markdown",
   "metadata": {},
   "source": [
    "\n"
   ]
  },
  {
   "cell_type": "code",
   "execution_count": 18,
   "metadata": {},
   "outputs": [
    {
     "name": "stdout",
     "output_type": "stream",
     "text": [
      "MSE (on validation set 1/3) = 33 | lambda = 0.0073\n",
      "MSE (on validation set 2/3) = 31 | lambda = 0.0045\n"
     ]
    },
    {
     "name": "stderr",
     "output_type": "stream",
     "text": [
      " 11%|████████▊                                                                       | 11/100 [00:00<00:00, 102.80it/s]"
     ]
    },
    {
     "name": "stdout",
     "output_type": "stream",
     "text": [
      "MSE (on validation set 3/3) = 21 | lambda = 0.045\n",
      "Mean MSE Cross Validation = 28 +- 6.5\n",
      "Best lambda = 0.0189 +- 0.0225\n",
      "##########\n",
      "Regularizaion: 0.01892801419394408\n",
      "Max epoch: 100\n",
      "Primal Pegasos Linear\n"
     ]
    },
    {
     "name": "stderr",
     "output_type": "stream",
     "text": [
      "100%|████████████████████████████████████████████████████████████████████████████████| 100/100 [00:01<00:00, 86.87it/s]"
     ]
    },
    {
     "name": "stdout",
     "output_type": "stream",
     "text": [
      "##########\n"
     ]
    },
    {
     "name": "stderr",
     "output_type": "stream",
     "text": [
      "\n"
     ]
    }
   ],
   "source": [
    "epoch_max = 100\n",
    "MSE_mean = 0\n",
    "MSE_list = []\n",
    "l_opt_list = []\n",
    "for n_val in range (n_bags):\n",
    "    X_train_ = []\n",
    "    y_train_ = []\n",
    "    X_val_ = np.array(bags_list[n_val].x)\n",
    "    y_val_ =  np.array(bags_list[n_val].y)\n",
    "    for n in range (n_bags):\n",
    "        if n_val != n:\n",
    "            X_train_ += bags_list[n].x\n",
    "            y_train_ += bags_list[n].y\n",
    "    X_train_ = np.array(X_train_)\n",
    "    y_train_ = np.array(y_train_)\n",
    "\n",
    "    MSE_min = lambda l: MSE_l(l, \n",
    "                              Pegasos_regression=Pegasos_regression,\n",
    "                              epoch_max=epoch_max, \n",
    "                              epsilon=1E-8, \n",
    "                              X_train=X_train_, y_train=y_train_, \n",
    "                              X_val=X_val_, y_val=y_val_)\n",
    "    l_opt = golden_section_search(MSE_min, 1E-3, 10, 1E-3)\n",
    "    l_opt_list.append(l_opt)\n",
    "    MSE_list.append(MSE_min(l_opt))\n",
    "    MSE_mean += MSE_min(l_opt) / n_bags \n",
    "    print('MSE (on validation set {}/{}) = {:.2g} | lambda = {:.2g}'.format(n_val+1, n_bags, MSE_min(l_opt), l_opt))\n",
    "MSE_array = np.array(MSE_list)\n",
    "best_l_array = np.array(l_opt_list)\n",
    "print('Mean MSE Cross Validation = {:.3g} +- {:.3g}'.format(MSE_mean, MSE_array.var(ddof=1)**0.5))\n",
    "print('Best lambda = {:.3g} +- {:.3g}'.format(best_l_array.mean(), best_l_array.var(ddof=1)**0.5))\n",
    "\n",
    "l_best_linear = best_l_array.mean()\n",
    "Pegasos_linear_CV = Pegasos_regression(regularization=l_best_linear,\n",
    "                             epoch_max=epoch_max,\n",
    "                             epsilon=1E-8)\n",
    "Pegasos_linear_CV.fit(X_train, y_train)"
   ]
  },
  {
   "cell_type": "markdown",
   "metadata": {},
   "source": []
  },
  {
   "cell_type": "code",
   "execution_count": 20,
   "metadata": {},
   "outputs": [],
   "source": [
    "def MSE_kernel (l, Pegasos, Kernel, epoch_max, epsilon, X_train, y_train, X_val, y_val):\n",
    "    Pegasos_ = Pegasos(kernel=Kernel,\n",
    "                              regularization=l,\n",
    "                              epoch_max=epoch_max,\n",
    "                              epsilon=epsilon,\n",
    "                              verbose=False)\n",
    "    Pegasos_.fit(X_train, y_train)\n",
    "    MSE_ = Pegasos_.MSE(X_val, y_val)\n",
    "    return (MSE_) "
   ]
  },
  {
   "cell_type": "markdown",
   "metadata": {},
   "source": []
  },
  {
   "cell_type": "code",
   "execution_count": 21,
   "metadata": {},
   "outputs": [
    {
     "name": "stdout",
     "output_type": "stream",
     "text": [
      "MSE (on validation set 1/3) = 32.98 | lambda = 0.02\n",
      "MSE (on validation set 2/3) = 30.28 | lambda = 0.004\n"
     ]
    },
    {
     "name": "stderr",
     "output_type": "stream",
     "text": [
      "  9%|███████▍                                                                          | 9/100 [00:00<00:01, 89.99it/s]"
     ]
    },
    {
     "name": "stdout",
     "output_type": "stream",
     "text": [
      "MSE (on validation set 3/3) = 20.66 | lambda = 0.041\n",
      "Mean MSE Cross Validation = 28 +- 6.5\n",
      "Best lambda = 0.0219 +- 0.0187\n",
      "##########\n",
      "Regularizaion: 0.021884903668500544\n",
      "Max epoch: 100\n",
      "Kernel Pegasos: Polynomial kernel (c=0, p=1)\n"
     ]
    },
    {
     "name": "stderr",
     "output_type": "stream",
     "text": [
      "100%|████████████████████████████████████████████████████████████████████████████████| 100/100 [00:01<00:00, 80.64it/s]"
     ]
    },
    {
     "name": "stdout",
     "output_type": "stream",
     "text": [
      "##########\n"
     ]
    },
    {
     "name": "stderr",
     "output_type": "stream",
     "text": [
      "\n"
     ]
    }
   ],
   "source": [
    "MSE_mean = 0\n",
    "MSE_list = []\n",
    "Kernel_linear = Kernel(c=0, p=1)\n",
    "l_opt_list = []\n",
    "for n_val in range (n_bags):\n",
    "    X_train_ = []\n",
    "    y_train_ = []\n",
    "    X_val_ = np.array(bags_list[n_val].x)\n",
    "    y_val_ =  np.array(bags_list[n_val].y)\n",
    "    for n in range (n_bags):\n",
    "        if n_val != n:\n",
    "            X_train_ += bags_list[n].x\n",
    "            y_train_ += bags_list[n].y\n",
    "    X_train_ = np.array(X_train_)\n",
    "    y_train_ = np.array(y_train_)\n",
    "\n",
    "    MSE_kernel_lambda = lambda l: MSE_kernel(l,\n",
    "                                             Pegasos=Pegasos_kernel, \n",
    "                                             Kernel=Kernel_linear,  \n",
    "                                             epoch_max=epoch_max, \n",
    "                                             epsilon=1E-8, \n",
    "                                             X_train=X_train_, \n",
    "                                             y_train=y_train_, \n",
    "                                             X_val=X_val_, \n",
    "                                             y_val=y_val_)\n",
    "    \n",
    "    l_opt = golden_section_search(MSE_kernel_lambda, 1E-5, 100, 1E-3)\n",
    "    l_opt_list.append(l_opt)\n",
    "    MSE_list.append(MSE_min(l_opt))\n",
    "    MSE_mean += MSE_min(l_opt) / n_bags \n",
    "    print('MSE (on validation set {}/{}) = {:.2f} | lambda = {:.2g}'.format(n_val+1, n_bags, MSE_min(l_opt), l_opt))\n",
    "MSE_array = np.array(MSE_list)\n",
    "best_l_array = np.array(l_opt_list)\n",
    "print('Mean MSE Cross Validation = {:.3g} +- {:.3g}'.format(MSE_mean, MSE_array.var(ddof=1)**0.5))\n",
    "print('Best lambda = {:.3g} +- {:.3g}'.format(best_l_array.mean(), best_l_array.var(ddof=1)**0.5))\n",
    "\n",
    "l_best = best_l_array.mean()\n",
    "Pegasos_kernel_linear_CV = Pegasos_kernel(kernel=Kernel_linear,\n",
    "                                          regularization=l_best,\n",
    "                                          epoch_max=epoch_max,\n",
    "                                          epsilon=1E-8,\n",
    "                                           )\n",
    "Pegasos_kernel_linear_CV.fit(X_train, y_train)"
   ]
  },
  {
   "cell_type": "markdown",
   "metadata": {},
   "source": []
  },
  {
   "cell_type": "code",
   "execution_count": 22,
   "metadata": {},
   "outputs": [
    {
     "name": "stdout",
     "output_type": "stream",
     "text": [
      "MSE (on validation set 1/3) = 19.90 | c = 100 | lambda = 0.5\n",
      "MSE (on validation set 2/3) = 12.87 | c = 10 | lambda = 0.01\n"
     ]
    },
    {
     "name": "stderr",
     "output_type": "stream",
     "text": [
      "  8%|██████▌                                                                           | 8/100 [00:00<00:01, 79.20it/s]"
     ]
    },
    {
     "name": "stdout",
     "output_type": "stream",
     "text": [
      "MSE (on validation set 3/3) = 7.17 | c = 50 | lambda = 0.5\n",
      "Mean MSE Cross Validation = 13 +- 7.9\n",
      "Best lambda = 0.337 +- 0.283\n",
      "Best c = 53.3 +- 45.1\n",
      "##########\n",
      "Regularizaion: 0.33666666666666667\n",
      "Max epoch: 100\n",
      "Kernel Pegasos: Polynomial kernel (c=53.333333333333336, p=2)\n"
     ]
    },
    {
     "name": "stderr",
     "output_type": "stream",
     "text": [
      "100%|████████████████████████████████████████████████████████████████████████████████| 100/100 [00:01<00:00, 71.83it/s]"
     ]
    },
    {
     "name": "stdout",
     "output_type": "stream",
     "text": [
      "##########\n"
     ]
    },
    {
     "name": "stderr",
     "output_type": "stream",
     "text": [
      "\n"
     ]
    }
   ],
   "source": [
    "MSE_mean = 0\n",
    "MSE_list = []\n",
    "c_best_list = []\n",
    "l_best_list = []\n",
    "for n_val in range (n_bags):\n",
    "    X_train_ = []\n",
    "    y_train_ = []\n",
    "    X_val_ = np.array(bags_list[n_val].x)\n",
    "    y_val_ =  np.array(bags_list[n_val].y)\n",
    "    for n in range (n_bags):\n",
    "        if n_val != n:\n",
    "            X_train_ += bags_list[n].x\n",
    "            y_train_ += bags_list[n].y\n",
    "    X_train_ = np.array(X_train_)\n",
    "    y_train_ = np.array(y_train_)\n",
    "\n",
    "\n",
    "    best_val = 1E8\n",
    "    best_l = 0\n",
    "    best_c = 0\n",
    "    for c in [0, 1, 5, 10, 50, 100]:\n",
    "        Kernel_2 = Kernel(c=c, p=2)\n",
    "        for l in [1E-5, 1E-4, 1E-3, 1E-2, 0.5, 0.1, 0.5, 1, 10]:\n",
    "            Pegasos_reg_kernel_2 = Pegasos_kernel(kernel=Kernel_2, \n",
    "                                                regularization=l, \n",
    "                                                epoch_max=epoch_max, \n",
    "                                                epsilon=1E-8,\n",
    "                                                verbose=False)\n",
    "            Pegasos_reg_kernel_2.fit(X_train_, y_train_)\n",
    "            MSE_Pegasos_train_2 = Pegasos_reg_kernel_2.MSE(X_train, y_train)\n",
    "            MSE_Pegasos_val_2 = Pegasos_reg_kernel_2.MSE(X_val_, y_val_)\n",
    "            #print('Train:', MSE_Pegasos_train_2)\n",
    "            #print('Val:', MSE_Pegasos_val_2)\n",
    "            if MSE_Pegasos_val_2 < best_val:\n",
    "                best_l = l\n",
    "                best_val = MSE_Pegasos_val_2        \n",
    "                best_c = c\n",
    "    c_best_list.append(best_c)\n",
    "    l_best_list.append(best_l)\n",
    "    MSE_list.append(MSE_min(l_opt))\n",
    "\n",
    "    MSE_mean += best_val / n_bags \n",
    "    print('MSE (on validation set {}/{}) = {:.2f} | c = {} | lambda = {:.2g}'.format(n_val+1, n_bags, best_val, best_c, best_l))\n",
    "MSE_array = np.array(MSE_list)\n",
    "best_l_array = np.array(l_best_list)\n",
    "c_best_array = np.array(c_best_list)\n",
    "print('Mean MSE Cross Validation = {:.3g} +- {:.3g}'.format(MSE_mean, MSE_array.var(ddof=1)**0.5))\n",
    "print('Best lambda = {:.3g} +- {:.3g}'.format(best_l_array.mean(), best_l_array.var(ddof=1)**0.5))\n",
    "print('Best c = {:.3g} +- {:.3g}'.format(c_best_array.mean(), c_best_array.var(ddof=1)**0.5))\n",
    "\n",
    "l_best = best_l_array.mean()\n",
    "c_best = c_best_array.mean()\n",
    "Kernel_2 = Kernel(c=c_best, p=2)\n",
    "Pegasos_kernel_quadratic_CV = Pegasos_kernel(kernel=Kernel_2,\n",
    "                                          regularization=l_best,\n",
    "                                          epoch_max=epoch_max,\n",
    "                                          epsilon=1E-8,\n",
    "                                           )\n",
    "Pegasos_kernel_quadratic_CV.fit(X_train, y_train)"
   ]
  },
  {
   "cell_type": "markdown",
   "metadata": {},
   "source": []
  },
  {
   "cell_type": "code",
   "execution_count": 24,
   "metadata": {},
   "outputs": [
    {
     "name": "stdout",
     "output_type": "stream",
     "text": [
      "MSE (on validation set 1/3) = 19.48 | c = 100 | lambda = 50\n",
      "MSE (on validation set 2/3) = 11.58 | c = 50 | lambda = 5\n"
     ]
    },
    {
     "name": "stderr",
     "output_type": "stream",
     "text": [
      "  6%|████▉                                                                             | 6/100 [00:00<00:01, 54.05it/s]"
     ]
    },
    {
     "name": "stdout",
     "output_type": "stream",
     "text": [
      "MSE (on validation set 3/3) = 6.92 | c = 50 | lambda = 50\n",
      "Mean MSE Cross Validation = 13 +- 26\n",
      "Best lambda = 35 +- 26\n",
      "##########\n",
      "Regularizaion: 35.0\n",
      "Max epoch: 100\n",
      "Kernel Pegasos: Polynomial kernel (c=66.66666666666667, p=3)\n"
     ]
    },
    {
     "name": "stderr",
     "output_type": "stream",
     "text": [
      "100%|████████████████████████████████████████████████████████████████████████████████| 100/100 [00:02<00:00, 48.75it/s]"
     ]
    },
    {
     "name": "stdout",
     "output_type": "stream",
     "text": [
      "##########\n"
     ]
    },
    {
     "name": "stderr",
     "output_type": "stream",
     "text": [
      "\n"
     ]
    }
   ],
   "source": [
    "MSE_mean = 0\n",
    "MSE_list = []\n",
    "c_best_list = []\n",
    "l_best_list = []\n",
    "for n_val in range (n_bags):\n",
    "    X_train_ = []\n",
    "    y_train_ = []\n",
    "    X_val_ = np.array(bags_list[n_val].x)\n",
    "    y_val_ =  np.array(bags_list[n_val].y)\n",
    "    for n in range (n_bags):\n",
    "        if n_val != n:\n",
    "            X_train_ += bags_list[n].x\n",
    "            y_train_ += bags_list[n].y\n",
    "    X_train_ = np.array(X_train_)\n",
    "    y_train_ = np.array(y_train_)\n",
    "\n",
    "\n",
    "    best_val = 1E8\n",
    "    best_l = 0\n",
    "    best_c = 0\n",
    "    for c in [0, 1, 5, 10, 50, 100]:\n",
    "        Kernel_3 = Kernel(c=c, p=3)\n",
    "        for l in [1, 5, 10, 50, 100, 1000]:\n",
    "            Pegasos_reg_kernel_3 = Pegasos_kernel(kernel=Kernel_3, \n",
    "                                                regularization=l, \n",
    "                                                epoch_max=epoch_max, \n",
    "                                                epsilon=1E-8,\n",
    "                                                verbose=False)\n",
    "            Pegasos_reg_kernel_3.fit(X_train_, y_train_)\n",
    "            MSE_Pegasos_train_3 = Pegasos_reg_kernel_3.MSE(X_train, y_train)\n",
    "            MSE_Pegasos_val_3 = Pegasos_reg_kernel_3.MSE(X_val_, y_val_)\n",
    "            #print('Train:', MSE_Pegasos_train_2)\n",
    "            #print('Val:', MSE_Pegasos_val_2)\n",
    "            if MSE_Pegasos_val_3 < best_val:\n",
    "                best_l = l\n",
    "                best_val = MSE_Pegasos_val_3        \n",
    "                best_c = c\n",
    "    c_best_list.append(best_c)\n",
    "    l_best_list.append(best_l)\n",
    "    MSE_list.append(MSE_min(l_opt))\n",
    "\n",
    "    MSE_mean += best_val / n_bags \n",
    "    print('MSE (on validation set {}/{}) = {:.2f} | c = {} | lambda = {:.2g}'.format(n_val+1, n_bags, best_val, best_c, best_l))\n",
    "best_l_array = np.array(l_best_list)\n",
    "c_best_array = np.array(c_best_list)\n",
    "print('Mean MSE Cross Validation = {:.3g} +- {:.3g}'.format(MSE_mean, best_l_array.var(ddof=1)**0.5))\n",
    "print('Best lambda = {:.3g} +- {:.3g}'.format(best_l_array.mean(), best_l_array.var(ddof=1)**0.5))\n",
    "\n",
    "l_best = best_l_array.mean()\n",
    "c_best = c_best_array.mean()\n",
    "Kernel_3 = Kernel(c=c_best, p=3)\n",
    "Pegasos_kernel_kubic_CV = Pegasos_kernel(kernel=Kernel_3,\n",
    "                                          regularization=l_best,\n",
    "                                          epoch_max=epoch_max,\n",
    "                                          epsilon=1E-8,\n",
    "                                           )\n",
    "Pegasos_kernel_kubic_CV.fit(X_train, y_train)"
   ]
  },
  {
   "cell_type": "markdown",
   "metadata": {},
   "source": []
  },
  {
   "cell_type": "code",
   "execution_count": 27,
   "metadata": {},
   "outputs": [],
   "source": [
    "lin_reg = LinearRegression()\n",
    "lin_reg.fit(X_train, y_train)\n",
    "y_test_sklearn = np.dot(X_test, lin_reg.coef_) + lin_reg.intercept_"
   ]
  },
  {
   "cell_type": "markdown",
   "metadata": {},
   "source": []
  },
  {
   "cell_type": "code",
   "execution_count": 30,
   "metadata": {},
   "outputs": [
    {
     "name": "stdout",
     "output_type": "stream",
     "text": [
      "                      0      1      2      3     4      5     6      7     8  \\\n",
      "Name               Bias   CRIM     ZN  INDUS  CHAS    NOX    RM    AGE   DIS   \n",
      "Linear Regression  22.6 -0.892   1.22 -0.136  0.59     -2  2.53  0.296 -3.23   \n",
      "Pegasos linear     21.6 -0.675  0.712 -0.165  0.46 -0.809   3.3 -0.496 -1.57   \n",
      "\n",
      "                       9    10       11     12     13  \n",
      "Name                 RAD   TAX  PTRATIO      B  LSTAT  \n",
      "Linear Regression   2.85 -2.44    -1.97  0.791  -3.91  \n",
      "Pegasos linear     0.932 -1.24    -1.66  0.992  -2.23  \n"
     ]
    }
   ],
   "source": [
    "pd.set_option('display.max_columns', None)\n",
    "pd.set_option('display.max_rows', None)\n",
    "compare_weights = pd.DataFrame()\n",
    "compare_weights['Name'] = ['Bias'] + list(column_names[:-1])\n",
    "compare_weights['Linear Regression'] = np.append(lin_reg.intercept_, lin_reg.coef_)\n",
    "compare_weights['Pegasos linear'] = np.append(Pegasos_linear_CV.theta_0, Pegasos_linear_CV.theta)\n",
    "pd.set_option('display.precision', 3)\n",
    "print(compare_weights.T)  "
   ]
  },
  {
   "cell_type": "markdown",
   "metadata": {},
   "source": []
  },
  {
   "cell_type": "code",
   "execution_count": 31,
   "metadata": {},
   "outputs": [
    {
     "name": "stdout",
     "output_type": "stream",
     "text": [
      "                              Deviation / %     MSE\n",
      "Sklearn                               0.000  22.266\n",
      "Pegasos (linear)                     -3.729  23.097\n",
      "Pegasos (Kernel - linear)            -4.075  23.174\n",
      "Pegasos (Kernel - quadratic)         34.558  14.571\n",
      "Pegasos (Kernel - kubic)             38.683  13.653\n"
     ]
    }
   ],
   "source": [
    "MSE_compare = pd.Series(dtype=float)\n",
    "ARD_compare = pd.Series(dtype=float) \n",
    "MSE_compare['Sklearn'] = Metric_regression().fun_MSE(y_test, y_test_sklearn)\n",
    "MSE_compare['Pegasos (linear)'] = Pegasos_linear_CV.MSE(X_test, y_test)\n",
    "MSE_compare['Pegasos (Kernel - linear)'] = Pegasos_kernel_linear_CV.MSE(X_test, y_test)\n",
    "MSE_compare['Pegasos (Kernel - quadratic)'] = Pegasos_kernel_quadratic_CV.MSE(X_test, y_test)\n",
    "MSE_compare['Pegasos (Kernel - kubic)'] = Pegasos_kernel_kubic_CV.MSE(X_test, y_test)\n",
    "\n",
    "ARD_compare['Sklearn'] = 0\n",
    "ARD_compare['Pegasos (linear)'] = -(MSE_compare['Pegasos (linear)'] - MSE_compare['Sklearn'])  / MSE_compare['Sklearn']*100\n",
    "ARD_compare['Pegasos (Kernel - linear)'] = -(MSE_compare['Pegasos (Kernel - linear)'] - MSE_compare['Sklearn'])  / MSE_compare['Sklearn']*100\n",
    "ARD_compare['Pegasos (Kernel - quadratic)'] = -(MSE_compare['Pegasos (Kernel - quadratic)'] - MSE_compare['Sklearn'])  / MSE_compare['Sklearn']*100\n",
    "ARD_compare['Pegasos (Kernel - kubic)'] = -(MSE_compare['Pegasos (Kernel - kubic)'] - MSE_compare['Sklearn'])  / MSE_compare['Sklearn']*100\n",
    "\n",
    "MSE_DF = MSE_compare.to_frame(name='MSE')\n",
    "ARD_DF = ARD_compare.to_frame(name='Deviation / %')\n",
    "performance_DF = pd.concat([ARD_DF, MSE_DF], axis=1)\n",
    "print(performance_DF)"
   ]
  },
  {
   "cell_type": "markdown",
   "metadata": {},
   "source": []
  },
  {
   "cell_type": "code",
   "execution_count": null,
   "metadata": {},
   "outputs": [
    {
     "name": "stderr",
     "output_type": "stream",
     "text": [
      " 68%|██████████████████████████████████████████████████████▍                         | 219/322 [01:06<01:00,  1.71it/s]"
     ]
    }
   ],
   "source": [
    "MSE_train = []\n",
    "MSE_val = []\n",
    "train_samples = []\n",
    "Pegasos_linear_CV = Pegasos_regression(regularization=l_best_linear,\n",
    "                             epoch_max=epoch_max,\n",
    "                             epsilon=1E-8,\n",
    "                             verbose=False)\n",
    "\n",
    "n = X_train.shape[0]\n",
    "split_fraction = 0.8\n",
    "n_split = int(n * split_fraction)\n",
    "X_val_ = X_train[n_split:,:]\n",
    "y_val_ = y_train[n_split:]\n",
    "\n",
    "lin_reg_sub = LinearRegression()\n",
    "lin_reg_sub.fit(X_train[:n_split,:], y_train[:n_split])\n",
    "y_val = np.dot(X_val_, lin_reg.coef_) + lin_reg.intercept_\n",
    "MSE_epsilon = Metric_regression().fun_MSE(y_val, y_val_)\n",
    "\n",
    "n_start = 1\n",
    "for n_sample in tqdm(range(n_start, n_split)):\n",
    "    train_samples.append(n_sample)\n",
    "    X_train_sub = X_train[:n_sample,:]\n",
    "    y_train_sub = y_train[:n_sample]\n",
    "    \n",
    "    Pegasos_linear_CV.fit(X_train_sub, y_train_sub)\n",
    "    MSE_train.append(Pegasos_linear_CV.MSE(X_train_sub, y_train_sub))\n",
    "    MSE_val.append(Pegasos_linear_CV.MSE(X_val_, y_val_))\n",
    "   \n",
    "plt.plot(train_samples, [MSE_epsilon for n in range(n_start, n_split)])\n",
    "plt.plot(train_samples, MSE_train)\n",
    "plt.plot(train_samples, MSE_val)\n",
    "plt.xlim(0, n_split)\n",
    "plt.xlabel('$n_\\mathrm{{train}}$ / -')\n",
    "plt.ylabel('MSE')\n",
    "plt.legend(['$\\epsilon$','Training', 'Testing'])\n",
    "plt.yscale('log')\n",
    "plt.show()"
   ]
  },
  {
   "cell_type": "markdown",
   "metadata": {},
   "source": []
  }
 ],
 "metadata": {
  "kernelspec": {
   "display_name": "Python 3",
   "language": "python",
   "name": "python3"
  },
  "language_info": {
   "codemirror_mode": {
    "name": "ipython",
    "version": 3
   },
   "file_extension": ".py",
   "mimetype": "text/x-python",
   "name": "python",
   "nbconvert_exporter": "python",
   "pygments_lexer": "ipython3",
   "version": "3.8.3"
  }
 },
 "nbformat": 4,
 "nbformat_minor": 4
}
